{
 "cells": [
  {
   "cell_type": "code",
   "execution_count": null,
   "id": "c77bdf18",
   "metadata": {},
   "outputs": [
    {
     "name": "stdout",
     "output_type": "stream",
     "text": [
      "[Copied] Blog post copied to: _posts\\2021-05-09-AVR-Microcontroller-Tools-and-components-to-get-started.md\n",
      "[Copied] C:\\Users\\Shuvangkar\\Shuvangkar-PKB\\50 Content\\52 Websites\\01 Blog\\Hold\\attachments\\Pasted image 20220807102419.png → assets/images\\Pasted-image-20220807102419.png\n",
      "[Success] Final blog post saved at: _posts\\2021-05-09-AVR-Microcontroller-Tools-and-components-to-get-started.md\n"
     ]
    }
   ],
   "source": [
    "import os\n",
    "import re\n",
    "import shutil\n",
    "\n",
    "# ──────── ✏️ EDIT THESE VARIABLES ─────────────\n",
    "blog_name         = \"2021-05-09 AVR Microcontroller-Tools and components to get started\"\n",
    "obsidian_post_dir = r\"C:\\Users\\Shuvangkar\\Shuvangkar-PKB\\50 Content\\52 Websites\\01 Blog\\Hold\"\n",
    "obsidian_img_dir  = r\"C:\\Users\\Shuvangkar\\Shuvangkar-PKB\\50 Content\\52 Websites\\01 Blog\\Hold\\attachments\"\n",
    " \n",
    "jekyll_img_dir    = \"assets/images\"\n",
    "jekyll_post_dir   = \"_posts\"\n",
    "# ───────────────────────────────────────────────\n",
    "\n",
    "def sanitize_filename(name):\n",
    "    return name.replace(\" \", \"-\")\n",
    "\n",
    "# Step 1: Construct paths\n",
    "obsidian_md_path = os.path.join(obsidian_post_dir, blog_name + \".md\")\n",
    "jekyll_post_name = sanitize_filename(blog_name) + \".md\"\n",
    "jekyll_md_path = os.path.join(jekyll_post_dir, jekyll_post_name)\n",
    "\n",
    "# Ensure folders exist\n",
    "os.makedirs(jekyll_img_dir, exist_ok=True)\n",
    "os.makedirs(jekyll_post_dir, exist_ok=True)\n",
    "\n",
    "# Step 2: Copy post to Jekyll folder with hyphenated name\n",
    "if not os.path.exists(obsidian_md_path):\n",
    "    print(f\"[Error] Markdown file not found: {obsidian_md_path}\")\n",
    "    exit()\n",
    "\n",
    "shutil.copy2(obsidian_md_path, jekyll_md_path)\n",
    "print(f\"[Copied] Blog post copied to: {jekyll_md_path}\")\n",
    "\n",
    "# Step 3: Read copied post\n",
    "with open(jekyll_md_path, 'r', encoding='utf-8') as f:\n",
    "    content = f.read()\n",
    "\n",
    "# Step 4: Replace image links\n",
    "obsidian_img_pattern = r'!\\[\\[(.*?)\\]\\]'\n",
    "replaced_imgs = {}\n",
    "\n",
    "def replace_img(match):\n",
    "    img_filename = match.group(1)\n",
    "    original_img_path = os.path.join(obsidian_img_dir, img_filename)\n",
    "\n",
    "    if not os.path.exists(original_img_path):\n",
    "        print(f\"[Warning] Image not found: {original_img_path}\")\n",
    "        return match.group(0)  # leave unchanged\n",
    "\n",
    "    sanitized_img_name = sanitize_filename(img_filename)\n",
    "    jekyll_img_path = os.path.join(jekyll_img_dir, sanitized_img_name)\n",
    "\n",
    "    shutil.copy2(original_img_path, jekyll_img_path)\n",
    "    print(f\"[Copied] {original_img_path} → {jekyll_img_path}\")\n",
    "\n",
    "    rel_img_path = os.path.join(\"/\", jekyll_img_dir, sanitized_img_name).replace(\"\\\\\", \"/\")\n",
    "    return f\"![Image]({rel_img_path})\"\n",
    "\n",
    "# Step 5: Apply image replacements\n",
    "updated_content = re.sub(obsidian_img_pattern, replace_img, content)\n",
    "\n",
    "# Step 6: Save updated post\n",
    "with open(jekyll_md_path, 'w', encoding='utf-8') as f:\n",
    "    f.write(updated_content)\n",
    "\n",
    "print(f\"[Success] Final blog post saved at: {jekyll_md_path}\")\n"
   ]
  }
 ],
 "metadata": {
  "kernelspec": {
   "display_name": "base",
   "language": "python",
   "name": "python3"
  },
  "language_info": {
   "codemirror_mode": {
    "name": "ipython",
    "version": 3
   },
   "file_extension": ".py",
   "mimetype": "text/x-python",
   "name": "python",
   "nbconvert_exporter": "python",
   "pygments_lexer": "ipython3",
   "version": "3.12.4"
  }
 },
 "nbformat": 4,
 "nbformat_minor": 5
}
